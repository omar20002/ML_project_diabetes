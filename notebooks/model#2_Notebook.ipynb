{
 "cells": [
  {
   "cell_type": "code",
   "execution_count": null,
   "id": "8507e546",
   "metadata": {},
   "outputs": [],
   "source": [
    "!pip install optuna\n",
    "!pip install catboost"
   ]
  },
  {
   "cell_type": "code",
   "execution_count": 1,
   "id": "6d356590",
   "metadata": {
    "colab": {
     "base_uri": "https://localhost:8080/"
    },
    "id": "6d356590",
    "outputId": "2691ff0b-57e3-4029-b65c-f152a574cf98"
   },
   "outputs": [],
   "source": [
    "import numpy as np \n",
    "import pandas as pd\n",
    "import matplotlib.pyplot as plt\n",
    "from scipy.stats import spearmanr\n",
    "from sklearn.preprocessing import LabelEncoder, OneHotEncoder\n",
    "from scipy.stats import chi2_contingency\n",
    "from sklearn.model_selection import train_test_split, GridSearchCV\n",
    "import optuna\n",
    "from sklearn.model_selection import train_test_split\n",
    "from sklearn.metrics import accuracy_score\n",
    "\n"
   ]
  },
  {
   "cell_type": "code",
   "execution_count": 3,
   "id": "895d5112",
   "metadata": {
    "id": "895d5112"
   },
   "outputs": [],
   "source": [
    "train = pd.read_csv (\"diabetes.csv\")\n",
    "test = pd.read_csv(\"diabetes_test_unlabeled.csv\")"
   ]
  },
  {
   "cell_type": "code",
   "execution_count": 2,
   "id": "-rHfHE5du_WT",
   "metadata": {
    "colab": {
     "base_uri": "https://localhost:8080/"
    },
    "id": "-rHfHE5du_WT",
    "outputId": "e9c7b6db-5320-4df2-b95d-4237e0c4a9aa"
   },
   "outputs": [],
   "source": [
    "\n",
    "\n",
    "remove = ['encounter_id' , 'hospital_id' , 'd1_row_nan_counts' , 'h1_row_nan_counts' , 'nan_counts']"
   ]
  },
  {
   "cell_type": "code",
   "execution_count": 6,
   "id": "2df08940",
   "metadata": {
    "colab": {
     "base_uri": "https://localhost:8080/"
    },
    "id": "2df08940",
    "outputId": "795810f5-5748-4480-a5a2-5af98646da72",
    "scrolled": true
   },
   "outputs": [
    {
     "name": "stderr",
     "output_type": "stream",
     "text": [
      "/usr/local/lib/python3.10/dist-packages/sklearn/preprocessing/_encoders.py:868: FutureWarning: `sparse` was renamed to `sparse_output` in version 1.2 and will be removed in 1.4. `sparse_output` is ignored unless you leave `sparse` to its default value.\n",
      "  warnings.warn(\n",
      "/usr/local/lib/python3.10/dist-packages/sklearn/preprocessing/_encoders.py:868: FutureWarning: `sparse` was renamed to `sparse_output` in version 1.2 and will be removed in 1.4. `sparse_output` is ignored unless you leave `sparse` to its default value.\n",
      "  warnings.warn(\n",
      "/usr/local/lib/python3.10/dist-packages/sklearn/preprocessing/_encoders.py:868: FutureWarning: `sparse` was renamed to `sparse_output` in version 1.2 and will be removed in 1.4. `sparse_output` is ignored unless you leave `sparse` to its default value.\n",
      "  warnings.warn(\n",
      "/usr/local/lib/python3.10/dist-packages/sklearn/preprocessing/_encoders.py:868: FutureWarning: `sparse` was renamed to `sparse_output` in version 1.2 and will be removed in 1.4. `sparse_output` is ignored unless you leave `sparse` to its default value.\n",
      "  warnings.warn(\n",
      "/usr/local/lib/python3.10/dist-packages/sklearn/preprocessing/_encoders.py:868: FutureWarning: `sparse` was renamed to `sparse_output` in version 1.2 and will be removed in 1.4. `sparse_output` is ignored unless you leave `sparse` to its default value.\n",
      "  warnings.warn(\n",
      "/usr/local/lib/python3.10/dist-packages/sklearn/preprocessing/_encoders.py:868: FutureWarning: `sparse` was renamed to `sparse_output` in version 1.2 and will be removed in 1.4. `sparse_output` is ignored unless you leave `sparse` to its default value.\n",
      "  warnings.warn(\n"
     ]
    }
   ],
   "source": [
    "num = []\n",
    "cat = []\n",
    "\n",
    "def encode_categorical_features(train, test):\n",
    "    for col in train.columns:   \n",
    "        if train[col].dtype == 'object':\n",
    "            if train[col].nunique() <= 15:\n",
    "                encoder = OneHotEncoder(sparse=False, handle_unknown='ignore')\n",
    "                train_encoded = encoder.fit_transform(train[[col]])\n",
    "                test_encoded = encoder.transform(test[[col]])\n",
    "                train.drop(columns=[col], inplace=True)\n",
    "                test.drop(columns=[col], inplace=True)\n",
    "                train = pd.concat([train, pd.DataFrame(train_encoded, columns=encoder.get_feature_names_out([col]))], axis=1)\n",
    "                test = pd.concat([test, pd.DataFrame(test_encoded, columns=encoder.get_feature_names_out([col]))], axis=1)\n",
    "            else:\n",
    "                encoder = LabelEncoder()\n",
    "                train_encoded = encoder.fit_transform(train[col])\n",
    "                test_encoded = encoder.transform(test[col])\n",
    "                train[col] = train_encoded\n",
    "                test[col] = test_encoded\n",
    "        else:\n",
    "            num.append(col)\n",
    "    return train, test\n",
    "\n",
    "\n",
    "train , test = encode_categorical_features(train , test)"
   ]
  },
  {
   "cell_type": "code",
   "execution_count": 7,
   "id": "eea637ee",
   "metadata": {
    "id": "eea637ee"
   },
   "outputs": [],
   "source": [
    "for i in train:\n",
    "    if i not in num:\n",
    "        cat.append(i)"
   ]
  },
  {
   "cell_type": "code",
   "execution_count": 9,
   "id": "RawWrCVO0t-k",
   "metadata": {
    "id": "RawWrCVO0t-k"
   },
   "outputs": [],
   "source": [
    "from sklearn.model_selection import train_test_split\n",
    "from sklearn.metrics import mean_squared_error\n",
    "\n",
    "def optimize_hyperparameters(X_train, y_train, n_trials=100):\n",
    "    def objective(trial):\n",
    "        params = {\n",
    "            'learning_rate': trial.suggest_loguniform('learning_rate', 0.001, 0.1),\n",
    "            'max_depth': trial.suggest_int('max_depth', 3, 10),\n",
    "            'n_estimators': trial.suggest_int('n_estimators', 500, 2000)\n",
    "        }\n",
    "\n",
    "\n",
    "        params['task_type'] = \"GPU\"\n",
    "        params['verbose'] = 0\n",
    "\n",
    "\n",
    "        model = CatBoostRegressor()\n",
    "        model.set_params(**params)\n",
    "\n",
    "        X_train_split, X_val, y_train_split, y_val = train_test_split(X_train, y_train, test_size=0.2)\n",
    "\n",
    "        model.fit(X_train_split, y_train_split)\n",
    "\n",
    "        y_pred = model.predict(X_val)\n",
    "\n",
    "        mse = mean_squared_error(y_val, y_pred)\n",
    "\n",
    "        return mse\n",
    "\n",
    "    study = optuna.create_study(direction='minimize')\n",
    "    study.optimize(objective, n_trials=n_trials)\n",
    "\n",
    "    best_params = study.best_trial.params\n",
    "    best_params['task_type'] = \"GPU\"\n",
    "    best_params['verbose'] = 0\n",
    "    model = CatBoostRegressor()\n",
    "    model.set_params(**best_params)\n",
    "\n",
    "    return model , best_params"
   ]
  },
  {
   "cell_type": "code",
   "execution_count": 10,
   "id": "0fd11b54",
   "metadata": {
    "id": "0fd11b54"
   },
   "outputs": [],
   "source": [
    "from catboost import CatBoostRegressor\n",
    "\n",
    "df = pd.concat([test.assign(ind=\"test\"), train.assign(ind=\"train\")])\n",
    "df = df.drop(remove,axis=1)\n",
    "params = {'albumin_apache': {'learning_rate': 0.047669878474493055, 'max_depth': 5, 'n_estimators': 1973, 'task_type': 'GPU', 'verbose': 0}, 'bilirubin_apache': {'learning_rate': 0.01568689850000682, 'max_depth': 5, 'n_estimators': 1498, 'task_type': 'GPU', 'verbose': 0}, 'bun_apache': {'learning_rate': 0.012212797074912045, 'max_depth': 3, 'n_estimators': 1727, 'task_type': 'GPU', 'verbose': 0}, 'creatinine_apache': {'learning_rate': 0.045852459281106775, 'max_depth': 9, 'n_estimators': 1285, 'task_type': 'GPU', 'verbose': 0}, 'hematocrit_apache': {'learning_rate': 0.08238165195172158, 'max_depth': 8, 'n_estimators': 1996, 'task_type': 'GPU', 'verbose': 0}, 'sodium_apache': {'learning_rate': 0.05962428465017329, 'max_depth': 5, 'n_estimators': 750, 'task_type': 'GPU', 'verbose': 0}, 'urineoutput_apache': {'learning_rate': 0.008872279046660136, 'max_depth': 5, 'n_estimators': 1599, 'task_type': 'GPU', 'verbose': 0}, 'wbc_apache': {'learning_rate': 0.04820822552989037, 'max_depth': 3, 'n_estimators': 1286, 'task_type': 'GPU', 'verbose': 0}, 'h1_temp_max': {'learning_rate': 0.012806129173317955, 'max_depth': 5, 'n_estimators': 1368, 'task_type': 'GPU', 'verbose': 0}, 'h1_temp_min': {'learning_rate': 0.049510781193983146, 'max_depth': 5, 'n_estimators': 982, 'task_type': 'GPU', 'verbose': 0}, 'd1_albumin_max': {'learning_rate': 0.046289929379345916, 'max_depth': 3, 'n_estimators': 685, 'task_type': 'GPU', 'verbose': 0}, 'd1_albumin_min': {'learning_rate': 0.024870142473933966, 'max_depth': 7, 'n_estimators': 1178, 'task_type': 'GPU', 'verbose': 0}, 'd1_bilirubin_max': {'learning_rate': 0.08242483751582927, 'max_depth': 7, 'n_estimators': 1507, 'task_type': 'GPU', 'verbose': 0}, 'd1_bilirubin_min': {'learning_rate': 0.04884534873218641, 'max_depth': 3, 'n_estimators': 1879, 'task_type': 'GPU', 'verbose': 0}, 'd1_hco3_max': {'learning_rate': 0.011021670127736352, 'max_depth': 7, 'n_estimators': 1525, 'task_type': 'GPU', 'verbose': 0}, 'd1_hco3_min': {'learning_rate': 0.051470605840941513, 'max_depth': 5, 'n_estimators': 992, 'task_type': 'GPU', 'verbose': 0}, 'd1_inr_max': {'learning_rate': 0.05412116272722388, 'max_depth': 3, 'n_estimators': 692, 'task_type': 'GPU', 'verbose': 0}, 'd1_inr_min': {'learning_rate': 0.09813297931498835, 'max_depth': 4, 'n_estimators': 1929, 'task_type': 'GPU', 'verbose': 0}, 'h1_glucose_max': {'learning_rate': 0.08179184254899058, 'max_depth': 5, 'n_estimators': 1053, 'task_type': 'GPU', 'verbose': 0}, 'h1_glucose_min': {'learning_rate': 0.06344391201411274, 'max_depth': 4, 'n_estimators': 1206, 'task_type': 'GPU', 'verbose': 0}, 'd1_arterial_pco2_max': {'learning_rate': 0.05055896951597059, 'max_depth': 4, 'n_estimators': 952, 'task_type': 'GPU', 'verbose': 0}, 'd1_arterial_pco2_min': {'learning_rate': 0.048839365196095295, 'max_depth': 5, 'n_estimators': 591, 'task_type': 'GPU', 'verbose': 0}, 'd1_arterial_ph_max': {'learning_rate': 0.020551684368551114, 'max_depth': 5, 'n_estimators': 1921, 'task_type': 'GPU', 'verbose': 0}, 'd1_arterial_ph_min': {'learning_rate': 0.03549253031513147, 'max_depth': 4, 'n_estimators': 1489, 'task_type': 'GPU', 'verbose': 0}, 'd1_arterial_po2_max': {'learning_rate': 0.016888444177358092, 'max_depth': 5, 'n_estimators': 1766, 'task_type': 'GPU', 'verbose': 0}, 'd1_arterial_po2_min': {'learning_rate': 0.050409971791460936, 'max_depth': 3, 'n_estimators': 1864, 'task_type': 'GPU', 'verbose': 0}}\n",
    "from catboost import CatBoostRegressor\n",
    "\n",
    "def fill_nulls_with_catboost(df, target_column):\n",
    "    train_df = df[df[target_column].notnull()]\n",
    "    test_df = df[df[target_column].isnull()]\n",
    "\n",
    "    excluded_columns = ['ind', 'diabetes_mellitus']\n",
    "    feature_columns = [col for col in df.columns if col not in excluded_columns]\n",
    "    X_train = train_df[feature_columns]\n",
    "    y_train = train_df[target_column]\n",
    "    X_test = test_df[feature_columns]\n",
    "\n",
    "    #model , params = optimize_hyperparameters(X_train,y_train,10)\n",
    "    model = CatBoostRegressor(**params[target_column])\n",
    "    model.fit(X_train, y_train)\n",
    "\n",
    "    predicted_values = model.predict(X_test)\n",
    "\n",
    "    df.loc[df[target_column].isnull(), target_column] = predicted_values\n",
    "\n",
    "    return df"
   ]
  },
  {
   "cell_type": "code",
   "execution_count": 11,
   "id": "5ca063f7",
   "metadata": {
    "id": "5ca063f7"
   },
   "outputs": [],
   "source": [
    "nulls = []\n",
    "def null_info(df):\n",
    "    num_rows = len(df)\n",
    "    \n",
    "    for col in df.columns:\n",
    "        num_nulls = df[col].isnull().sum()\n",
    "        \n",
    "        if num_nulls > 0:\n",
    "            null_percent = round((num_nulls / num_rows) * 100, 2)\n",
    "            if(null_percent) > 15:\n",
    "                nulls .append(col)\n",
    "            \n",
    "            #print(f\"Column '{col}' has {num_nulls} null values ({null_percent}% of total)\")\n",
    "            \n",
    "            \n",
    "            \n",
    "null_info(df)\n",
    "\n",
    "def fill_mean(df):\n",
    "    for col in df.columns:\n",
    "        if df[col].isnull().any():\n",
    "            col_mean = df[col].mean()\n",
    "            df[col].fillna(col_mean, inplace=True)\n",
    "\n",
    "nulls.remove('diabetes_mellitus')"
   ]
  },
  {
   "cell_type": "code",
   "execution_count": 12,
   "id": "Dev2M4G63-dw",
   "metadata": {
    "id": "Dev2M4G63-dw"
   },
   "outputs": [],
   "source": [
    "for i in nulls:\n",
    "  df = fill_nulls_with_catboost(df, i)"
   ]
  },
  {
   "cell_type": "code",
   "execution_count": 13,
   "id": "Wo5qsE2f2bHl",
   "metadata": {
    "id": "Wo5qsE2f2bHl"
   },
   "outputs": [],
   "source": [
    "fill_mean(df)\n"
   ]
  },
  {
   "cell_type": "code",
   "execution_count": 14,
   "id": "IO6bTskdrNDE",
   "metadata": {
    "id": "IO6bTskdrNDE"
   },
   "outputs": [],
   "source": [
    "test, train = df[df[\"ind\"].eq(\"test\")], df[df[\"ind\"].eq(\"train\")]\n",
    "\n",
    "to_drop = ['ind' , 'diabetes_mellitus']\n",
    "label = ['diabetes_mellitus']\n",
    "\n",
    "\n",
    "X = train.drop(to_drop,axis=1)\n",
    "Y = train[label]\n",
    "\n",
    "\n",
    "test = test.drop(to_drop,axis=1)"
   ]
  },
  {
   "cell_type": "code",
   "execution_count": 15,
   "id": "JoDMAoJjvSpA",
   "metadata": {
    "id": "JoDMAoJjvSpA"
   },
   "outputs": [],
   "source": [
    "from sklearn.model_selection import train_test_split\n",
    "from sklearn.preprocessing import StandardScaler\n",
    "scaler = StandardScaler()\n",
    "\n",
    "X = scaler.fit_transform(X)\n",
    "test = scaler.transform(test)\n",
    "\n",
    "X_train, X_val, y_train, y_val = train_test_split(X, Y, test_size=0.20, random_state=42)\n",
    "#X_train, X_test, y_train, y_test = train_test_split(X_train,y_train, test_size=0.33, random_state=42)\n"
   ]
  },
  {
   "cell_type": "code",
   "execution_count": 41,
   "id": "3OpIACazwWBU",
   "metadata": {
    "colab": {
     "base_uri": "https://localhost:8080/"
    },
    "id": "3OpIACazwWBU",
    "outputId": "02420da1-9232-471d-c1f3-329abe761b25"
   },
   "outputs": [
    {
     "name": "stdout",
     "output_type": "stream",
     "text": [
      "Model: \"sequential_6\"\n",
      "_________________________________________________________________\n",
      " Layer (type)                Output Shape              Param #   \n",
      "=================================================================\n",
      " dense_36 (Dense)            (None, 256)               40448     \n",
      "                                                                 \n",
      " dropout_8 (Dropout)         (None, 256)               0         \n",
      "                                                                 \n",
      " dense_37 (Dense)            (None, 128)               32896     \n",
      "                                                                 \n",
      " dropout_9 (Dropout)         (None, 128)               0         \n",
      "                                                                 \n",
      " dense_38 (Dense)            (None, 64)                8256      \n",
      "                                                                 \n",
      " dropout_10 (Dropout)        (None, 64)                0         \n",
      "                                                                 \n",
      " dense_39 (Dense)            (None, 64)                4160      \n",
      "                                                                 \n",
      " dense_40 (Dense)            (None, 10)                650       \n",
      "                                                                 \n",
      " dense_41 (Dense)            (None, 1)                 11        \n",
      "                                                                 \n",
      "=================================================================\n",
      "Total params: 86,421\n",
      "Trainable params: 86,421\n",
      "Non-trainable params: 0\n",
      "_________________________________________________________________\n"
     ]
    }
   ],
   "source": [
    "import tensorflow as tf\n",
    "from tensorflow.keras.models import Sequential\n",
    "from tensorflow.keras.layers import Dense, Dropout\n",
    "# Define the model\n",
    "model = Sequential()\n",
    "\n",
    "model.add(Dense(256, activation='relu', input_shape=(X.shape[1],)))\n",
    "model.add(Dropout(0.5))\n",
    "model.add(Dense(128, activation='relu', input_shape=(X.shape[1],)))\n",
    "model.add(Dropout(0.5))\n",
    "model.add(Dense(64, activation='relu', input_shape=(X.shape[1],)))\n",
    "\n",
    "model.add(Dense(64, activation='relu'))\n",
    "model.add(Dense(10, activation='softmax'))\n",
    "model.add(Dense(1, activation='sigmoid'))\n",
    "\n",
    "model.summary()"
   ]
  },
  {
   "cell_type": "code",
   "execution_count": 55,
   "id": "m8dDst4h0hlL",
   "metadata": {
    "colab": {
     "base_uri": "https://localhost:8080/"
    },
    "id": "m8dDst4h0hlL",
    "outputId": "cdaca67a-23ff-4dab-bdbd-8eaea7ef379e"
   },
   "outputs": [
    {
     "name": "stdout",
     "output_type": "stream",
     "text": [
      "Epoch 1/20\n",
      "1953/1953 [==============================] - 13s 6ms/step - loss: 0.3783 - precision: 0.5937 - val_loss: 0.3688 - val_precision: 0.6120\n",
      "Epoch 2/20\n",
      "1953/1953 [==============================] - 10s 5ms/step - loss: 0.3737 - precision: 0.6127 - val_loss: 0.3672 - val_precision: 0.6344\n",
      "Epoch 3/20\n",
      "1953/1953 [==============================] - 10s 5ms/step - loss: 0.3725 - precision: 0.6202 - val_loss: 0.3657 - val_precision: 0.6433\n",
      "Epoch 4/20\n",
      "1953/1953 [==============================] - 12s 6ms/step - loss: 0.3709 - precision: 0.6258 - val_loss: 0.3655 - val_precision: 0.6520\n",
      "Epoch 5/20\n",
      "1953/1953 [==============================] - 11s 5ms/step - loss: 0.3684 - precision: 0.6340 - val_loss: 0.3637 - val_precision: 0.6604\n",
      "Epoch 6/20\n",
      "1953/1953 [==============================] - 10s 5ms/step - loss: 0.3689 - precision: 0.6403 - val_loss: 0.3632 - val_precision: 0.6599\n",
      "Epoch 7/20\n",
      "1953/1953 [==============================] - 10s 5ms/step - loss: 0.3684 - precision: 0.6390 - val_loss: 0.3630 - val_precision: 0.6618\n",
      "Epoch 8/20\n",
      "1953/1953 [==============================] - 11s 6ms/step - loss: 0.3685 - precision: 0.6424 - val_loss: 0.3627 - val_precision: 0.6649\n",
      "Epoch 9/20\n",
      "1953/1953 [==============================] - 11s 5ms/step - loss: 0.3681 - precision: 0.6403 - val_loss: 0.3644 - val_precision: 0.6652\n",
      "Epoch 10/20\n",
      "1953/1953 [==============================] - 11s 6ms/step - loss: 0.3677 - precision: 0.6409 - val_loss: 0.3636 - val_precision: 0.6645\n",
      "Epoch 11/20\n",
      "1953/1953 [==============================] - 10s 5ms/step - loss: 0.3679 - precision: 0.6430 - val_loss: 0.3629 - val_precision: 0.6653\n",
      "Epoch 12/20\n",
      "1953/1953 [==============================] - 11s 5ms/step - loss: 0.3666 - precision: 0.6443 - val_loss: 0.3628 - val_precision: 0.6637\n",
      "Epoch 13/20\n",
      "1953/1953 [==============================] - 11s 5ms/step - loss: 0.3673 - precision: 0.6436 - val_loss: 0.3629 - val_precision: 0.6648\n",
      "Epoch 14/20\n",
      "1953/1953 [==============================] - 10s 5ms/step - loss: 0.3677 - precision: 0.6468 - val_loss: 0.3620 - val_precision: 0.6663\n",
      "Epoch 15/20\n",
      "1953/1953 [==============================] - 10s 5ms/step - loss: 0.3663 - precision: 0.6468 - val_loss: 0.3615 - val_precision: 0.6652\n",
      "Epoch 16/20\n",
      "1953/1953 [==============================] - 12s 6ms/step - loss: 0.3679 - precision: 0.6410 - val_loss: 0.3621 - val_precision: 0.6672\n",
      "Epoch 17/20\n",
      "1953/1953 [==============================] - 11s 5ms/step - loss: 0.3663 - precision: 0.6469 - val_loss: 0.3623 - val_precision: 0.6694\n",
      "Epoch 18/20\n",
      "1953/1953 [==============================] - 12s 6ms/step - loss: 0.3659 - precision: 0.6510 - val_loss: 0.3620 - val_precision: 0.6707\n",
      "Epoch 19/20\n",
      "1953/1953 [==============================] - 10s 5ms/step - loss: 0.3670 - precision: 0.6461 - val_loss: 0.3613 - val_precision: 0.6700\n",
      "Epoch 20/20\n",
      "1953/1953 [==============================] - 12s 6ms/step - loss: 0.3653 - precision: 0.6487 - val_loss: 0.3627 - val_precision: 0.6667\n"
     ]
    },
    {
     "data": {
      "text/plain": [
       "<keras.callbacks.History at 0x7f5e48364fa0>"
      ]
     },
     "execution_count": 55,
     "metadata": {},
     "output_type": "execute_result"
    }
   ],
   "source": [
    "#!pip install -U imbalanced-learn\n",
    "from imblearn.over_sampling import RandomOverSampler\n",
    "from imblearn.under_sampling import RandomUnderSampler\n",
    "#from imblearn.combine import SMOTE\n",
    "smote = RandomOverSampler()\n",
    "\n",
    "model.compile(loss='binary_crossentropy', optimizer='SGD', metrics=['Precision'])\n",
    "\n",
    "\n",
    "model.fit(X,Y, epochs=20, validation_split=0.20)\n"
   ]
  },
  {
   "cell_type": "code",
   "execution_count": 56,
   "id": "s1j6dchv2WxF",
   "metadata": {
    "colab": {
     "base_uri": "https://localhost:8080/"
    },
    "id": "s1j6dchv2WxF",
    "outputId": "4e07b666-8f6b-479b-96af-8d8b948d6439"
   },
   "outputs": [
    {
     "name": "stdout",
     "output_type": "stream",
     "text": [
      "1627/1627 [==============================] - 4s 2ms/step\n"
     ]
    }
   ],
   "source": [
    "predictions = model.predict(test)\n",
    "\n",
    "threshold = 0.5\n",
    "\n",
    "binary_predictions = [1 if pred >= 0.5 else 0 for pred in predictions]"
   ]
  },
  {
   "cell_type": "code",
   "execution_count": 57,
   "id": "Rx_-e_JK2zR7",
   "metadata": {
    "colab": {
     "base_uri": "https://localhost:8080/",
     "height": 455
    },
    "id": "Rx_-e_JK2zR7",
    "outputId": "8a8b2fc1-def9-45e8-fa80-70a543ffcecb"
   },
   "outputs": [
    {
     "data": {
      "text/html": [
       "\n",
       "  <div id=\"df-d1d6f9ba-02e4-447e-9d4a-f7df7a1af337\">\n",
       "    <div class=\"colab-df-container\">\n",
       "      <div>\n",
       "<style scoped>\n",
       "    .dataframe tbody tr th:only-of-type {\n",
       "        vertical-align: middle;\n",
       "    }\n",
       "\n",
       "    .dataframe tbody tr th {\n",
       "        vertical-align: top;\n",
       "    }\n",
       "\n",
       "    .dataframe thead th {\n",
       "        text-align: right;\n",
       "    }\n",
       "</style>\n",
       "<table border=\"1\" class=\"dataframe\">\n",
       "  <thead>\n",
       "    <tr style=\"text-align: right;\">\n",
       "      <th></th>\n",
       "      <th>diabetes_mellitus</th>\n",
       "    </tr>\n",
       "    <tr>\n",
       "      <th>ID</th>\n",
       "      <th></th>\n",
       "    </tr>\n",
       "  </thead>\n",
       "  <tbody>\n",
       "    <tr>\n",
       "      <th>172759</th>\n",
       "      <td>0</td>\n",
       "    </tr>\n",
       "    <tr>\n",
       "      <th>196306</th>\n",
       "      <td>0</td>\n",
       "    </tr>\n",
       "    <tr>\n",
       "      <th>249171</th>\n",
       "      <td>0</td>\n",
       "    </tr>\n",
       "    <tr>\n",
       "      <th>161332</th>\n",
       "      <td>0</td>\n",
       "    </tr>\n",
       "    <tr>\n",
       "      <th>232215</th>\n",
       "      <td>0</td>\n",
       "    </tr>\n",
       "    <tr>\n",
       "      <th>...</th>\n",
       "      <td>...</td>\n",
       "    </tr>\n",
       "    <tr>\n",
       "      <th>185025</th>\n",
       "      <td>0</td>\n",
       "    </tr>\n",
       "    <tr>\n",
       "      <th>169719</th>\n",
       "      <td>0</td>\n",
       "    </tr>\n",
       "    <tr>\n",
       "      <th>158245</th>\n",
       "      <td>1</td>\n",
       "    </tr>\n",
       "    <tr>\n",
       "      <th>210845</th>\n",
       "      <td>0</td>\n",
       "    </tr>\n",
       "    <tr>\n",
       "      <th>260362</th>\n",
       "      <td>0</td>\n",
       "    </tr>\n",
       "  </tbody>\n",
       "</table>\n",
       "<p>52063 rows × 1 columns</p>\n",
       "</div>\n",
       "      <button class=\"colab-df-convert\" onclick=\"convertToInteractive('df-d1d6f9ba-02e4-447e-9d4a-f7df7a1af337')\"\n",
       "              title=\"Convert this dataframe to an interactive table.\"\n",
       "              style=\"display:none;\">\n",
       "        \n",
       "  <svg xmlns=\"http://www.w3.org/2000/svg\" height=\"24px\"viewBox=\"0 0 24 24\"\n",
       "       width=\"24px\">\n",
       "    <path d=\"M0 0h24v24H0V0z\" fill=\"none\"/>\n",
       "    <path d=\"M18.56 5.44l.94 2.06.94-2.06 2.06-.94-2.06-.94-.94-2.06-.94 2.06-2.06.94zm-11 1L8.5 8.5l.94-2.06 2.06-.94-2.06-.94L8.5 2.5l-.94 2.06-2.06.94zm10 10l.94 2.06.94-2.06 2.06-.94-2.06-.94-.94-2.06-.94 2.06-2.06.94z\"/><path d=\"M17.41 7.96l-1.37-1.37c-.4-.4-.92-.59-1.43-.59-.52 0-1.04.2-1.43.59L10.3 9.45l-7.72 7.72c-.78.78-.78 2.05 0 2.83L4 21.41c.39.39.9.59 1.41.59.51 0 1.02-.2 1.41-.59l7.78-7.78 2.81-2.81c.8-.78.8-2.07 0-2.86zM5.41 20L4 18.59l7.72-7.72 1.47 1.35L5.41 20z\"/>\n",
       "  </svg>\n",
       "      </button>\n",
       "      \n",
       "  <style>\n",
       "    .colab-df-container {\n",
       "      display:flex;\n",
       "      flex-wrap:wrap;\n",
       "      gap: 12px;\n",
       "    }\n",
       "\n",
       "    .colab-df-convert {\n",
       "      background-color: #E8F0FE;\n",
       "      border: none;\n",
       "      border-radius: 50%;\n",
       "      cursor: pointer;\n",
       "      display: none;\n",
       "      fill: #1967D2;\n",
       "      height: 32px;\n",
       "      padding: 0 0 0 0;\n",
       "      width: 32px;\n",
       "    }\n",
       "\n",
       "    .colab-df-convert:hover {\n",
       "      background-color: #E2EBFA;\n",
       "      box-shadow: 0px 1px 2px rgba(60, 64, 67, 0.3), 0px 1px 3px 1px rgba(60, 64, 67, 0.15);\n",
       "      fill: #174EA6;\n",
       "    }\n",
       "\n",
       "    [theme=dark] .colab-df-convert {\n",
       "      background-color: #3B4455;\n",
       "      fill: #D2E3FC;\n",
       "    }\n",
       "\n",
       "    [theme=dark] .colab-df-convert:hover {\n",
       "      background-color: #434B5C;\n",
       "      box-shadow: 0px 1px 3px 1px rgba(0, 0, 0, 0.15);\n",
       "      filter: drop-shadow(0px 1px 2px rgba(0, 0, 0, 0.3));\n",
       "      fill: #FFFFFF;\n",
       "    }\n",
       "  </style>\n",
       "\n",
       "      <script>\n",
       "        const buttonEl =\n",
       "          document.querySelector('#df-d1d6f9ba-02e4-447e-9d4a-f7df7a1af337 button.colab-df-convert');\n",
       "        buttonEl.style.display =\n",
       "          google.colab.kernel.accessAllowed ? 'block' : 'none';\n",
       "\n",
       "        async function convertToInteractive(key) {\n",
       "          const element = document.querySelector('#df-d1d6f9ba-02e4-447e-9d4a-f7df7a1af337');\n",
       "          const dataTable =\n",
       "            await google.colab.kernel.invokeFunction('convertToInteractive',\n",
       "                                                     [key], {});\n",
       "          if (!dataTable) return;\n",
       "\n",
       "          const docLinkHtml = 'Like what you see? Visit the ' +\n",
       "            '<a target=\"_blank\" href=https://colab.research.google.com/notebooks/data_table.ipynb>data table notebook</a>'\n",
       "            + ' to learn more about interactive tables.';\n",
       "          element.innerHTML = '';\n",
       "          dataTable['output_type'] = 'display_data';\n",
       "          await google.colab.output.renderOutput(dataTable, element);\n",
       "          const docLink = document.createElement('div');\n",
       "          docLink.innerHTML = docLinkHtml;\n",
       "          element.appendChild(docLink);\n",
       "        }\n",
       "      </script>\n",
       "    </div>\n",
       "  </div>\n",
       "  "
      ],
      "text/plain": [
       "        diabetes_mellitus\n",
       "ID                       \n",
       "172759                  0\n",
       "196306                  0\n",
       "249171                  0\n",
       "161332                  0\n",
       "232215                  0\n",
       "...                   ...\n",
       "185025                  0\n",
       "169719                  0\n",
       "158245                  1\n",
       "210845                  0\n",
       "260362                  0\n",
       "\n",
       "[52063 rows x 1 columns]"
      ]
     },
     "execution_count": 57,
     "metadata": {},
     "output_type": "execute_result"
    }
   ],
   "source": [
    "sub = pd.DataFrame({label[0] : np.array(binary_predictions)} , index = pd.read_csv('Sample_Submission.csv')['ID'])\n",
    "sub.index = sub.index.rename('ID')\n",
    "sub"
   ]
  },
  {
   "cell_type": "code",
   "execution_count": 58,
   "id": "XxaVxdus28X7",
   "metadata": {
    "colab": {
     "base_uri": "https://localhost:8080/"
    },
    "id": "XxaVxdus28X7",
    "outputId": "009bca28-31f9-4aa5-b581-67f4141279f5"
   },
   "outputs": [
    {
     "data": {
      "text/plain": [
       "diabetes_mellitus\n",
       "0                    43706\n",
       "1                     8357\n",
       "dtype: int64"
      ]
     },
     "execution_count": 58,
     "metadata": {},
     "output_type": "execute_result"
    }
   ],
   "source": [
    "sub[label].value_counts()"
   ]
  },
  {
   "cell_type": "code",
   "execution_count": 59,
   "id": "JnzM7p203Gwr",
   "metadata": {
    "id": "JnzM7p203Gwr"
   },
   "outputs": [],
   "source": [
    "model.save('model#2')"
   ]
  }
 ],
 "metadata": {
  "accelerator": "GPU",
  "colab": {
   "gpuType": "T4",
   "provenance": []
  },
  "gpuClass": "standard",
  "kernelspec": {
   "display_name": "Python 3 (ipykernel)",
   "language": "python",
   "name": "python3"
  },
  "language_info": {
   "codemirror_mode": {
    "name": "ipython",
    "version": 3
   },
   "file_extension": ".py",
   "mimetype": "text/x-python",
   "name": "python",
   "nbconvert_exporter": "python",
   "pygments_lexer": "ipython3",
   "version": "3.9.13"
  },
  "varInspector": {
   "cols": {
    "lenName": 16,
    "lenType": 16,
    "lenVar": 40
   },
   "kernels_config": {
    "python": {
     "delete_cmd_postfix": "",
     "delete_cmd_prefix": "del ",
     "library": "var_list.py",
     "varRefreshCmd": "print(var_dic_list())"
    },
    "r": {
     "delete_cmd_postfix": ") ",
     "delete_cmd_prefix": "rm(",
     "library": "var_list.r",
     "varRefreshCmd": "cat(var_dic_list()) "
    }
   },
   "types_to_exclude": [
    "module",
    "function",
    "builtin_function_or_method",
    "instance",
    "_Feature"
   ],
   "window_display": false
  }
 },
 "nbformat": 4,
 "nbformat_minor": 5
}
