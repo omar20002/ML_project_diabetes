{
 "cells": [
  {
   "cell_type": "code",
   "execution_count": null,
   "id": "ffc253f2",
   "metadata": {},
   "outputs": [],
   "source": [
    "!pip install optuna\n",
    "!pip install catboost"
   ]
  },
  {
   "cell_type": "code",
   "execution_count": 2,
   "id": "6d356590",
   "metadata": {
    "colab": {
     "base_uri": "https://localhost:8080/"
    },
    "id": "6d356590",
    "outputId": "96b422fb-ace8-4825-b618-57c7d7600a62"
   },
   "outputs": [],
   "source": [
    "import numpy as np \n",
    "import pandas as pd\n",
    "import matplotlib.pyplot as plt\n",
    "from scipy.stats import spearmanr\n",
    "from sklearn.preprocessing import LabelEncoder, OneHotEncoder\n",
    "from scipy.stats import chi2_contingency\n",
    "from sklearn.model_selection import train_test_split, GridSearchCV\n",
    "import optuna\n",
    "from sklearn.metrics import accuracy_score\n",
    "from sklearn.metrics import mean_squared_error"
   ]
  },
  {
   "cell_type": "code",
   "execution_count": 3,
   "id": "895d5112",
   "metadata": {
    "id": "895d5112"
   },
   "outputs": [],
   "source": [
    "df = pd.read_csv (\"cleaned_data/cleaned_df.csv\").drop(['Unnamed: 0'],axis=1)"
   ]
  },
  {
   "cell_type": "code",
   "execution_count": null,
   "id": "SVTmlmUtDQra",
   "metadata": {
    "id": "SVTmlmUtDQra"
   },
   "outputs": [],
   "source": []
  },
  {
   "cell_type": "markdown",
   "id": "1cdbd3d5",
   "metadata": {},
   "source": [
    "# data scaling"
   ]
  },
  {
   "cell_type": "code",
   "execution_count": 4,
   "id": "IO6bTskdrNDE",
   "metadata": {
    "id": "IO6bTskdrNDE"
   },
   "outputs": [],
   "source": [
    "test, train = df[df[\"ind\"].eq(\"test\")], df[df[\"ind\"].eq(\"train\")]\n",
    "\n",
    "to_drop = ['ind' , 'diabetes_mellitus']\n",
    "label = ['diabetes_mellitus']\n",
    "\n",
    "\n",
    "X = train.drop(to_drop,axis=1)\n",
    "Y = train[label]\n",
    "\n",
    "\n",
    "test = test.drop(to_drop,axis=1)\n",
    "\n"
   ]
  },
  {
   "cell_type": "code",
   "execution_count": 5,
   "id": "JoDMAoJjvSpA",
   "metadata": {
    "id": "JoDMAoJjvSpA"
   },
   "outputs": [],
   "source": [
    "from sklearn.model_selection import train_test_split\n",
    "from sklearn.preprocessing import StandardScaler , MinMaxScaler\n",
    "scaler = StandardScaler()\n",
    "\n",
    "X = scaler.fit_transform(X)\n",
    "test = scaler.transform(test)\n",
    "\n"
   ]
  },
  {
   "cell_type": "markdown",
   "id": "6873eb2f",
   "metadata": {},
   "source": [
    "# loading models"
   ]
  },
  {
   "cell_type": "code",
   "execution_count": 6,
   "id": "3OpIACazwWBU",
   "metadata": {
    "id": "3OpIACazwWBU"
   },
   "outputs": [],
   "source": [
    "import tensorflow as tf\n",
    "\n",
    "model = tf.keras.models.load_model('saved_models/model#1')\n",
    "model2 = tf.keras.models.load_model('saved_models/model#2')\n"
   ]
  },
  {
   "cell_type": "code",
   "execution_count": 7,
   "id": "C9HmkJ4BFttx",
   "metadata": {
    "id": "C9HmkJ4BFttx"
   },
   "outputs": [
    {
     "name": "stdout",
     "output_type": "stream",
     "text": [
      "1627/1627 [==============================] - 2s 1ms/step\n",
      "1627/1627 [==============================] - 2s 1ms/step\n"
     ]
    }
   ],
   "source": [
    "predictions2 = model2.predict(test)\n",
    "predictions1 = model.predict(test)\n"
   ]
  },
  {
   "cell_type": "markdown",
   "id": "e6e8cee5",
   "metadata": {},
   "source": [
    "# ensembling models"
   ]
  },
  {
   "cell_type": "code",
   "execution_count": 8,
   "id": "s1j6dchv2WxF",
   "metadata": {
    "id": "s1j6dchv2WxF"
   },
   "outputs": [],
   "source": [
    "predictions = predictions1*0.7 + predictions2*0.3\n",
    "\n",
    "threshold = 0.5\n",
    "\n",
    "binary_predictions = [1 if pred >= threshold else 0 for pred in predictions]"
   ]
  },
  {
   "cell_type": "code",
   "execution_count": 9,
   "id": "Rx_-e_JK2zR7",
   "metadata": {
    "colab": {
     "base_uri": "https://localhost:8080/",
     "height": 455
    },
    "id": "Rx_-e_JK2zR7",
    "outputId": "b76808f0-02ff-4729-ac33-4f49d5025e9f"
   },
   "outputs": [],
   "source": [
    "sub = pd.DataFrame({label[0] : np.array(binary_predictions)} , index = pd.read_csv('submission_results/Sample_Submission.csv')['ID'])\n",
    "sub.index = sub.index.rename('ID')"
   ]
  },
  {
   "cell_type": "code",
   "execution_count": 10,
   "id": "XxaVxdus28X7",
   "metadata": {
    "colab": {
     "base_uri": "https://localhost:8080/"
    },
    "id": "XxaVxdus28X7",
    "outputId": "d0ee19b9-08bc-4883-c3cc-36fe3cb68b96"
   },
   "outputs": [
    {
     "data": {
      "text/plain": [
       "diabetes_mellitus\n",
       "0                    43760\n",
       "1                     8303\n",
       "dtype: int64"
      ]
     },
     "execution_count": 10,
     "metadata": {},
     "output_type": "execute_result"
    }
   ],
   "source": [
    "sub[label].value_counts()"
   ]
  },
  {
   "cell_type": "code",
   "execution_count": 11,
   "id": "JnzM7p203Gwr",
   "metadata": {
    "id": "JnzM7p203Gwr"
   },
   "outputs": [],
   "source": [
    "sub.to_csv('submission_results/final_submission.csv')"
   ]
  }
 ],
 "metadata": {
  "accelerator": "GPU",
  "colab": {
   "gpuType": "T4",
   "provenance": []
  },
  "gpuClass": "standard",
  "kernelspec": {
   "display_name": "Python 3 (ipykernel)",
   "language": "python",
   "name": "python3"
  },
  "language_info": {
   "codemirror_mode": {
    "name": "ipython",
    "version": 3
   },
   "file_extension": ".py",
   "mimetype": "text/x-python",
   "name": "python",
   "nbconvert_exporter": "python",
   "pygments_lexer": "ipython3",
   "version": "3.9.13"
  },
  "varInspector": {
   "cols": {
    "lenName": 16,
    "lenType": 16,
    "lenVar": 40
   },
   "kernels_config": {
    "python": {
     "delete_cmd_postfix": "",
     "delete_cmd_prefix": "del ",
     "library": "var_list.py",
     "varRefreshCmd": "print(var_dic_list())"
    },
    "r": {
     "delete_cmd_postfix": ") ",
     "delete_cmd_prefix": "rm(",
     "library": "var_list.r",
     "varRefreshCmd": "cat(var_dic_list()) "
    }
   },
   "types_to_exclude": [
    "module",
    "function",
    "builtin_function_or_method",
    "instance",
    "_Feature"
   ],
   "window_display": false
  }
 },
 "nbformat": 4,
 "nbformat_minor": 5
}
